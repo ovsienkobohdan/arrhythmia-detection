{
  "nbformat": 4,
  "nbformat_minor": 0,
  "metadata": {
    "colab": {
      "name": "model_prepare.ipynb",
      "provenance": [],
      "authorship_tag": "ABX9TyMPVzT82lw8wmYUCIp7Z3s/",
      "include_colab_link": true
    },
    "kernelspec": {
      "name": "python3",
      "display_name": "Python 3"
    },
    "language_info": {
      "name": "python"
    }
  },
  "cells": [
    {
      "cell_type": "markdown",
      "metadata": {
        "id": "view-in-github",
        "colab_type": "text"
      },
      "source": [
        "<a href=\"https://colab.research.google.com/github/ovsienkobohdan/arrhythmia-detection/blob/main/model_prepare.ipynb\" target=\"_parent\"><img src=\"https://colab.research.google.com/assets/colab-badge.svg\" alt=\"Open In Colab\"/></a>"
      ]
    },
    {
      "cell_type": "markdown",
      "metadata": {
        "id": "prEAelNAMTav"
      },
      "source": [
        "# Imports"
      ]
    },
    {
      "cell_type": "code",
      "metadata": {
        "id": "JOfIMYTpONXZ"
      },
      "source": [
        "!wget -r -N -c -np https://physionet.org/files/mitdb/1.0.0/"
      ],
      "execution_count": null,
      "outputs": []
    },
    {
      "cell_type": "code",
      "metadata": {
        "id": "Fsk2PhciYBOV"
      },
      "source": [
        "!pip install wfdb\n",
        "import pandas as pd\n",
        "import numpy as np\n",
        "import matplotlib.pyplot as plt\n",
        "from os import listdir\n",
        "import wfdb\n",
        "from tqdm import tqdm"
      ],
      "execution_count": null,
      "outputs": []
    },
    {
      "cell_type": "markdown",
      "metadata": {
        "id": "AOumFpsjMscu"
      },
      "source": [
        "# Data"
      ]
    },
    {
      "cell_type": "code",
      "metadata": {
        "id": "zd4jX1dAYHGK"
      },
      "source": [
        "data_path = '/content/physionet.org/files/mitdb/1.0.0/'"
      ],
      "execution_count": 3,
      "outputs": []
    },
    {
      "cell_type": "code",
      "metadata": {
        "id": "Aw8AbdzNYIlm",
        "colab": {
          "base_uri": "https://localhost:8080/"
        },
        "outputId": "fca82255-17de-4ba9-9490-722878ed8bed"
      },
      "source": [
        "patients_file = \"RECORDS\"\n",
        "with open(data_path+patients_file) as f:\n",
        "    patients = f.read().splitlines()\n",
        "print(patients)"
      ],
      "execution_count": 4,
      "outputs": [
        {
          "output_type": "stream",
          "text": [
            "['100', '101', '102', '103', '104', '105', '106', '107', '108', '109', '111', '112', '113', '114', '115', '116', '117', '118', '119', '121', '122', '123', '124', '200', '201', '202', '203', '205', '207', '208', '209', '210', '212', '213', '214', '215', '217', '219', '220', '221', '222', '223', '228', '230', '231', '232', '233', '234']\n"
          ],
          "name": "stdout"
        }
      ]
    },
    {
      "cell_type": "code",
      "metadata": {
        "id": "C3pNvzTDdUwo"
      },
      "source": [
        "def load_ecg(file, channels):\n",
        "    record = wfdb.rdrecord(file, channels=channels)\n",
        "    annotation = wfdb.rdann(file, 'atr')\n",
        "    \n",
        "    p_signal = record.p_signal\n",
        "    \n",
        "    assert record.fs == 360, 'sample freq is not 360'\n",
        "    \n",
        "    atr_sym = annotation.symbol\n",
        "    atr_sample = annotation.sample\n",
        "\n",
        "    return p_signal, atr_sym, atr_sample, aux_note"
      ],
      "execution_count": 81,
      "outputs": []
    },
    {
      "cell_type": "code",
      "metadata": {
        "id": "g-PkQt33Q4T1"
      },
      "source": [
        "def beat_annotations(annotations, annotations_sample, beat):\n",
        "  inds = np.in1d(annotations, beat)\n",
        "  beats = annotations_sample[inds]\n",
        "  return beats"
      ],
      "execution_count": 6,
      "outputs": []
    },
    {
      "cell_type": "code",
      "metadata": {
        "id": "XlKXzwYmTBc3"
      },
      "source": [
        "# TODO: remove keys with empty values\n",
        "\n",
        "def segmentation(data_path, patients, channels=[0]):\n",
        "  patient_beats = {}\n",
        "  \n",
        "  for patient in tqdm(patients):\n",
        "    beats = {\"N\":[], \"L\":[], \"R\":[], \"A\":[], \"V\":[], \"/\":[], \"E\":[]}\n",
        "    file_path = data_path + patient\n",
        "    signal, atr_sym, atr_sample = load_ecg(file_path, channels=channels)\n",
        "\n",
        "    for b in beats:\n",
        "      type_beats = beat_annotations(annotations=atr_sym, annotations_sample=atr_sample, beat=b)\n",
        "      \n",
        "      for type_beat in type_beats:\n",
        "        all_beats_ind = list(atr_sample).index(type_beat)\n",
        "\n",
        "        if all_beats_ind!=0 and all_beats_ind!=(len(atr_sample)-1):\n",
        "          prev_beat = atr_sample[all_beats_ind-1]\n",
        "          next_beat = atr_sample[all_beats_ind+1]\n",
        "          left_offset = abs(prev_beat - type_beat)//2\n",
        "          right_offset = abs(next_beat - type_beat)//2\n",
        "          beats[b].append(signal[type_beat - left_offset:type_beat+right_offset,0])\n",
        "\n",
        "    patient_beats[patient] = beats\n",
        "  return patient_beats"
      ],
      "execution_count": 68,
      "outputs": []
    },
    {
      "cell_type": "code",
      "metadata": {
        "colab": {
          "base_uri": "https://localhost:8080/"
        },
        "id": "ZQG-wxDTelpJ",
        "outputId": "cef09331-dc82-44dd-97ed-adfb5a50f721"
      },
      "source": [
        "B = segmentation(data_path, patients)"
      ],
      "execution_count": 69,
      "outputs": [
        {
          "output_type": "stream",
          "text": [
            "100%|██████████| 48/48 [00:31<00:00,  1.53it/s]\n"
          ],
          "name": "stderr"
        }
      ]
    }
  ]
}